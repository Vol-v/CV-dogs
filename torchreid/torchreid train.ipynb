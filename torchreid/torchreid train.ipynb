{
 "cells": [
  {
   "cell_type": "code",
   "execution_count": 2,
   "id": "36174b93-43d8-4a30-b4e7-0257cc4852d8",
   "metadata": {},
   "outputs": [],
   "source": [
    "import cv2\n",
    "import os\n",
    "import xml.etree.ElementTree as ET\n",
    "import glob\n",
    "import matplotlib.pyplot as plt\n",
    "import torchreid"
   ]
  },
  {
   "cell_type": "code",
   "execution_count": 56,
   "id": "7bd1a135-4903-4089-b1d8-43323d93fa1b",
   "metadata": {},
   "outputs": [
    {
     "name": "stdout",
     "output_type": "stream",
     "text": [
      "['resnet18', 'resnet34', 'resnet50', 'resnet101', 'resnet152', 'resnext50_32x4d', 'resnext101_32x8d', 'resnet50_fc512', 'se_resnet50', 'se_resnet50_fc512', 'se_resnet101', 'se_resnext50_32x4d', 'se_resnext101_32x4d', 'densenet121', 'densenet169', 'densenet201', 'densenet161', 'densenet121_fc512', 'inceptionresnetv2', 'inceptionv4', 'xception', 'resnet50_ibn_a', 'resnet50_ibn_b', 'nasnsetmobile', 'mobilenetv2_x1_0', 'mobilenetv2_x1_4', 'shufflenet', 'squeezenet1_0', 'squeezenet1_0_fc512', 'squeezenet1_1', 'shufflenet_v2_x0_5', 'shufflenet_v2_x1_0', 'shufflenet_v2_x1_5', 'shufflenet_v2_x2_0', 'mudeep', 'resnet50mid', 'hacnn', 'pcb_p6', 'pcb_p4', 'mlfn', 'osnet_x1_0', 'osnet_x0_75', 'osnet_x0_5', 'osnet_x0_25', 'osnet_ibn_x1_0', 'osnet_ain_x1_0', 'osnet_ain_x0_75', 'osnet_ain_x0_5', 'osnet_ain_x0_25']\n"
     ]
    }
   ],
   "source": [
    "torchreid.models.show_avai_models()"
   ]
  },
  {
   "cell_type": "code",
   "execution_count": 87,
   "id": "a5cb8522-7c06-4fb8-9f62-31df7faf75e3",
   "metadata": {},
   "outputs": [
    {
     "name": "stdout",
     "output_type": "stream",
     "text": [
      "['reid 9', 'reid 6', 'reid 8', 'reid 11', 'reid 10', 'reid 7']\n",
      "file frame_000399 completed!\n",
      "file frame_000399 completed!\n",
      "file frame_000136 completed!\n",
      "file frame_000399 completed!\n",
      "file frame_000136 completed!\n",
      "file frame_000259 completed!\n"
     ]
    }
   ],
   "source": [
    "!python3 creating\\ dataset\\ folders.py"
   ]
  },
  {
   "cell_type": "code",
   "execution_count": 23,
   "id": "e3268a83-bdfc-47aa-a8b1-dce72141fc02",
   "metadata": {},
   "outputs": [],
   "source": [
    "with open('./reid dataset split/labels.txt', 'r') as f:\n",
    "    lbls = f.readlines()"
   ]
  },
  {
   "cell_type": "code",
   "execution_count": 24,
   "id": "e323252f-6bfd-46e7-aad7-954b24d0e56b",
   "metadata": {},
   "outputs": [
    {
     "data": {
      "text/plain": [
       "'./reid dataset split/images_all/img_0_0.PNG 0 0\\n'"
      ]
     },
     "execution_count": 24,
     "metadata": {},
     "output_type": "execute_result"
    }
   ],
   "source": [
    "lbls[0]"
   ]
  },
  {
   "cell_type": "code",
   "execution_count": 37,
   "id": "da9b9b26-46ff-4493-9544-0f7f9941d771",
   "metadata": {},
   "outputs": [],
   "source": [
    "with open('./reid dataset split/labels.txt', 'r') as f:\n",
    "    labels = f.readlines()\n",
    "            \n",
    "labels = [[x for x in label.split()] for label in labels]\n",
    "for i in range(len(labels)):\n",
    "    labels[i] = [labels[i][0]+\" \"+labels[i][1]+\" \"+labels[i][2],labels[i][3],labels[i][4]]\n",
    "    labels[i][1] = int(labels[i][1])\n",
    "    labels[i][2] = int(labels[i][2])"
   ]
  },
  {
   "cell_type": "code",
   "execution_count": 60,
   "id": "4d8e970d-740f-42ee-88ec-cf0dc4258a16",
   "metadata": {},
   "outputs": [
    {
     "data": {
      "text/plain": [
       "[(1, 2), (4, 2)]"
      ]
     },
     "execution_count": 60,
     "metadata": {},
     "output_type": "execute_result"
    }
   ],
   "source": [
    "[a[0],b[0]]"
   ]
  },
  {
   "cell_type": "code",
   "execution_count": 63,
   "id": "923861f6-7eb7-42c9-89c8-15735060a8ed",
   "metadata": {},
   "outputs": [
    {
     "data": {
      "text/plain": [
       "((2, 2), (3, 2))"
      ]
     },
     "execution_count": 63,
     "metadata": {},
     "output_type": "execute_result"
    }
   ],
   "source": [
    "tuple(a[1:])"
   ]
  },
  {
   "cell_type": "code",
   "execution_count": 64,
   "id": "25601dd9-199e-4cf1-a25c-a851a20da959",
   "metadata": {},
   "outputs": [
    {
     "data": {
      "text/plain": [
       "[[1, 2], [2, 2], [3, 2], [4, 2], [5, 2], [6, 2]]"
      ]
     },
     "execution_count": 64,
     "metadata": {},
     "output_type": "execute_result"
    }
   ],
   "source": [
    "[list(x) for x in a+b]"
   ]
  },
  {
   "cell_type": "code",
   "execution_count": 1,
   "id": "ced12cec-2350-4eb8-880c-f7212e974f0a",
   "metadata": {},
   "outputs": [],
   "source": [
    "from __future__ import absolute_import\n",
    "from __future__ import print_function\n",
    "from __future__ import division\n",
    "\n",
    "import sys\n",
    "import os\n",
    "import os.path as osp\n",
    "\n",
    "from torchreid.data import ImageDataset\n",
    "\n",
    "\n",
    "class DogsDataset(ImageDataset):\n",
    "    dataset_dir = 'dog_reid_dataset_all'\n",
    "\n",
    "    def __init__(self, root='', **kwargs):\n",
    "        self.root = osp.abspath(osp.expanduser(root))\n",
    "        self.dataset_dir = osp.join(self.root, self.dataset_dir)\n",
    "\n",
    "        # All you need to do here is to generate three lists,\n",
    "        # which are train, query and gallery.\n",
    "        # Each list contains tuples of (img_path, pid, camid),\n",
    "        # where\n",
    "        # - img_path (str): absolute path to an image.\n",
    "        # - pid (int): person ID, e.g. 0, 1.\n",
    "        # - camid (int): camera ID, e.g. 0, 1.\n",
    "        # Note that\n",
    "        # - pid and camid should be 0-based.\n",
    "        # - query and gallery should share the same pid scope (e.g.\n",
    "        #   pid=0 in query refers to the same person as pid=0 in gallery).\n",
    "        # - train, query and gallery share the same camid scope (e.g.\n",
    "        #   camid=0 in train refers to the same camera as camid=0\n",
    "        #   in query/gallery).\n",
    "        with open('./reid dataset far/labels.txt', 'r') as f:\n",
    "            labels = f.readlines()\n",
    "            \n",
    "        labels = [[x for x in label.split()] for label in labels]\n",
    "        for i in range(len(labels)): #I didnt think for some reason that split() is going to split the name of the folder. Should have name it reid-dataset-split\n",
    "            labels[i] = [labels[i][0]+\" \"+labels[i][1]+\" \"+labels[i][2],labels[i][3],labels[i][4]]\n",
    "            labels[i][1] = int(labels[i][1])\n",
    "            labels[i][2] = int(labels[i][2])\n",
    "            \n",
    "        # labels = [tuple(x) for x in labels]\n",
    "        alpha = [x for x in labels if x[1] == 0]\n",
    "        beta = [x for x in labels if x[1] == 1]\n",
    "        query = [tuple(alpha[0]),tuple(beta[0])]\n",
    "        alpha = alpha[1:]\n",
    "        beta = beta[1:]\n",
    "        a08 =round(len(alpha)*0.8)\n",
    "        b08 =round(len(beta)*0.8)\n",
    "        train = [tuple(x) for x in alpha[:a08]+beta[:b08]]\n",
    "        gallery = alpha[a08:]+beta[b08:]\n",
    "        for i in range(len(gallery)):\n",
    "            gallery[i][2] = 1\n",
    "        gallery = [tuple(x) for x in gallery]\n",
    "        \n",
    "\n",
    "        super(DogsDataset, self).__init__(train, query, gallery, **kwargs)"
   ]
  },
  {
   "cell_type": "code",
   "execution_count": 3,
   "id": "24e66c31-6fa4-4180-a160-45fb6d2a274f",
   "metadata": {},
   "outputs": [],
   "source": [
    "torchreid.data.register_image_dataset('dog_reid_dataset_far', DogsDataset)"
   ]
  },
  {
   "cell_type": "code",
   "execution_count": 4,
   "id": "83046148-68ef-40dc-a309-746c0952d6b1",
   "metadata": {},
   "outputs": [
    {
     "name": "stdout",
     "output_type": "stream",
     "text": [
      "Building train transforms ...\n",
      "+ resize to 256x128\n",
      "+ random flip\n",
      "+ color jitter\n",
      "+ to torch tensor of range [0, 1]\n",
      "+ normalization (mean=[0.485, 0.456, 0.406], std=[0.229, 0.224, 0.225])\n",
      "Building test transforms ...\n",
      "+ resize to 256x128\n",
      "+ to torch tensor of range [0, 1]\n",
      "+ normalization (mean=[0.485, 0.456, 0.406], std=[0.229, 0.224, 0.225])\n",
      "=> Loading train (source) dataset\n",
      "=> Loaded DogsDataset\n",
      "  ----------------------------------------\n",
      "  subset   | # ids | # images | # cameras\n",
      "  ----------------------------------------\n",
      "  train    |     2 |     6612 |         1\n",
      "  query    |     2 |        2 |         1\n",
      "  gallery  |     2 |     1653 |         1\n",
      "  ----------------------------------------\n",
      "=> Loading test (target) dataset\n",
      "=> Loaded DogsDataset\n",
      "  ----------------------------------------\n",
      "  subset   | # ids | # images | # cameras\n",
      "  ----------------------------------------\n",
      "  train    |     2 |     6612 |         1\n",
      "  query    |     2 |        2 |         1\n",
      "  gallery  |     2 |     1653 |         1\n",
      "  ----------------------------------------\n",
      "\n",
      "\n",
      "  **************** Summary ****************\n",
      "  source            : ['dog_reid_dataset_far']\n",
      "  # source datasets : 1\n",
      "  # source ids      : 2\n",
      "  # source images   : 6612\n",
      "  # source cameras  : 1\n",
      "  target            : ['dog_reid_dataset_far']\n",
      "  *****************************************\n",
      "\n",
      "\n"
     ]
    }
   ],
   "source": [
    "datamanager = torchreid.data.ImageDataManager(\n",
    "    root='reid-data',\n",
    "    sources='dog_reid_dataset_far',  \n",
    "    transforms=[\"random_flip\",\"color_jitter\"]\n",
    ")"
   ]
  },
  {
   "cell_type": "code",
   "execution_count": 7,
   "id": "a9202c8f-2a1e-4ef0-9b23-ad0169b411a7",
   "metadata": {},
   "outputs": [
    {
     "ename": "AttributeError",
     "evalue": "'str' object has no attribute 'state_dict'",
     "output_type": "error",
     "traceback": [
      "\u001b[0;31m---------------------------------------------------------------------------\u001b[0m",
      "\u001b[0;31mAttributeError\u001b[0m                            Traceback (most recent call last)",
      "Input \u001b[0;32mIn [7]\u001b[0m, in \u001b[0;36m<cell line: 5>\u001b[0;34m()\u001b[0m\n\u001b[1;32m      1\u001b[0m \u001b[38;5;28;01mfrom\u001b[39;00m \u001b[38;5;21;01mtorchreid\u001b[39;00m\u001b[38;5;21;01m.\u001b[39;00m\u001b[38;5;21;01mutils\u001b[39;00m \u001b[38;5;28;01mimport\u001b[39;00m load_pretrained_weights\n\u001b[1;32m      3\u001b[0m weight_path \u001b[38;5;241m=\u001b[39m \u001b[38;5;124m'\u001b[39m\u001b[38;5;124mlog/osnet_x0_25-softmax-dogs_dataset/model/osnet_x0_25.pth.tar\u001b[39m\u001b[38;5;124m'\u001b[39m\n\u001b[0;32m----> 5\u001b[0m model \u001b[38;5;241m=\u001b[39m \u001b[43mload_pretrained_weights\u001b[49m\u001b[43m(\u001b[49m\u001b[38;5;124;43m\"\u001b[39;49m\u001b[38;5;124;43mosnet_x0_25\u001b[39;49m\u001b[38;5;124;43m\"\u001b[39;49m\u001b[43m,\u001b[49m\u001b[43m \u001b[49m\u001b[43mweight_path\u001b[49m\u001b[43m)\u001b[49m\n",
      "File \u001b[0;32m~/Documents/CV project/torchreid/deep-person-reid/torchreid/utils/torchtools.py:279\u001b[0m, in \u001b[0;36mload_pretrained_weights\u001b[0;34m(model, weight_path)\u001b[0m\n\u001b[1;32m    276\u001b[0m \u001b[38;5;28;01melse\u001b[39;00m:\n\u001b[1;32m    277\u001b[0m     state_dict \u001b[38;5;241m=\u001b[39m checkpoint\n\u001b[0;32m--> 279\u001b[0m model_dict \u001b[38;5;241m=\u001b[39m \u001b[43mmodel\u001b[49m\u001b[38;5;241;43m.\u001b[39;49m\u001b[43mstate_dict\u001b[49m()\n\u001b[1;32m    280\u001b[0m new_state_dict \u001b[38;5;241m=\u001b[39m OrderedDict()\n\u001b[1;32m    281\u001b[0m matched_layers, discarded_layers \u001b[38;5;241m=\u001b[39m [], []\n",
      "\u001b[0;31mAttributeError\u001b[0m: 'str' object has no attribute 'state_dict'"
     ]
    }
   ],
   "source": [
    "from torchreid.utils import load_pretrained_weights\n",
    "\n",
    "weight_path = 'log/osnet_x0_25-softmax-dogs_dataset/model/osnet_x0_25.pth.tar'\n",
    "\n",
    "model = load_pretrained_weights(\"osnet_x0_25\", weight_path)\n"
   ]
  },
  {
   "cell_type": "code",
   "execution_count": 10,
   "id": "dd98849b-a473-4e35-8f5f-b3ad7f8661ca",
   "metadata": {},
   "outputs": [
    {
     "name": "stdout",
     "output_type": "stream",
     "text": [
      "Successfully loaded imagenet pretrained weights from \"/home/valentin/.cache/torch/checkpoints/osnet_x0_25_imagenet.pth\"\n",
      "** The following layers are discarded due to unmatched keys or layer size: ['classifier.weight', 'classifier.bias']\n",
      "=> Start training\n",
      "epoch: [1/5][40/206]\ttime 0.146 (0.161)\tdata 0.000 (0.013)\teta 0:02:39\tloss 0.4405 (0.5170)\tacc 81.2500 (77.8906)\tlr 0.000300\n",
      "epoch: [1/5][80/206]\ttime 0.146 (0.155)\tdata 0.000 (0.007)\teta 0:02:27\tloss 0.3053 (0.4344)\tacc 96.8750 (84.5703)\tlr 0.000300\n",
      "epoch: [1/5][120/206]\ttime 0.146 (0.152)\tdata 0.000 (0.005)\teta 0:02:18\tloss 0.2492 (0.3926)\tacc 100.0000 (87.6823)\tlr 0.000300\n",
      "epoch: [1/5][160/206]\ttime 0.146 (0.151)\tdata 0.000 (0.003)\teta 0:02:11\tloss 0.2439 (0.3645)\tacc 100.0000 (89.7266)\tlr 0.000300\n",
      "epoch: [1/5][200/206]\ttime 0.145 (0.150)\tdata 0.000 (0.003)\teta 0:02:04\tloss 0.2860 (0.3437)\tacc 93.7500 (91.2500)\tlr 0.000300\n",
      "epoch: [2/5][40/206]\ttime 0.146 (0.154)\tdata 0.000 (0.006)\teta 0:02:00\tloss 0.2339 (0.2395)\tacc 100.0000 (98.8281)\tlr 0.000300\n",
      "epoch: [2/5][80/206]\ttime 0.147 (0.151)\tdata 0.000 (0.003)\teta 0:01:52\tloss 0.2108 (0.2379)\tacc 100.0000 (98.8672)\tlr 0.000300\n",
      "epoch: [2/5][120/206]\ttime 0.147 (0.150)\tdata 0.000 (0.002)\teta 0:01:45\tloss 0.2181 (0.2374)\tacc 100.0000 (98.9323)\tlr 0.000300\n",
      "epoch: [2/5][160/206]\ttime 0.146 (0.150)\tdata 0.000 (0.002)\teta 0:01:39\tloss 0.2594 (0.2366)\tacc 100.0000 (99.0625)\tlr 0.000300\n",
      "epoch: [2/5][200/206]\ttime 0.147 (0.149)\tdata 0.000 (0.001)\teta 0:01:33\tloss 0.3036 (0.2359)\tacc 93.7500 (99.0781)\tlr 0.000300\n",
      "epoch: [3/5][40/206]\ttime 0.146 (0.156)\tdata 0.001 (0.008)\teta 0:01:30\tloss 0.2187 (0.2226)\tacc 100.0000 (99.7656)\tlr 0.000300\n",
      "epoch: [3/5][80/206]\ttime 0.147 (0.152)\tdata 0.000 (0.004)\teta 0:01:21\tloss 0.2251 (0.2214)\tacc 100.0000 (99.8047)\tlr 0.000300\n",
      "epoch: [3/5][120/206]\ttime 0.146 (0.151)\tdata 0.000 (0.003)\teta 0:01:15\tloss 0.2084 (0.2219)\tacc 100.0000 (99.7396)\tlr 0.000300\n",
      "epoch: [3/5][160/206]\ttime 0.147 (0.150)\tdata 0.000 (0.002)\teta 0:01:08\tloss 0.2085 (0.2220)\tacc 100.0000 (99.7070)\tlr 0.000300\n",
      "epoch: [3/5][200/206]\ttime 0.146 (0.150)\tdata 0.000 (0.002)\teta 0:01:02\tloss 0.2249 (0.2215)\tacc 100.0000 (99.7188)\tlr 0.000300\n",
      "epoch: [4/5][40/206]\ttime 0.150 (0.155)\tdata 0.000 (0.006)\teta 0:00:57\tloss 0.2109 (0.2207)\tacc 100.0000 (99.6875)\tlr 0.000300\n",
      "epoch: [4/5][80/206]\ttime 0.146 (0.152)\tdata 0.000 (0.003)\teta 0:00:50\tloss 0.2079 (0.2177)\tacc 100.0000 (99.7266)\tlr 0.000300\n",
      "epoch: [4/5][120/206]\ttime 0.147 (0.152)\tdata 0.000 (0.004)\teta 0:00:44\tloss 0.2153 (0.2185)\tacc 100.0000 (99.6354)\tlr 0.000300\n",
      "epoch: [4/5][160/206]\ttime 0.147 (0.152)\tdata 0.000 (0.005)\teta 0:00:38\tloss 0.2160 (0.2173)\tacc 100.0000 (99.7070)\tlr 0.000300\n",
      "epoch: [4/5][200/206]\ttime 0.146 (0.152)\tdata 0.000 (0.004)\teta 0:00:32\tloss 0.2095 (0.2165)\tacc 100.0000 (99.7344)\tlr 0.000300\n",
      "epoch: [5/5][40/206]\ttime 0.147 (0.156)\tdata 0.000 (0.008)\teta 0:00:25\tloss 0.2044 (0.2144)\tacc 100.0000 (99.8438)\tlr 0.000300\n",
      "epoch: [5/5][80/206]\ttime 0.147 (0.152)\tdata 0.000 (0.004)\teta 0:00:19\tloss 0.2276 (0.2150)\tacc 100.0000 (99.8047)\tlr 0.000300\n",
      "epoch: [5/5][120/206]\ttime 0.147 (0.151)\tdata 0.000 (0.003)\teta 0:00:12\tloss 0.2040 (0.2144)\tacc 100.0000 (99.8177)\tlr 0.000300\n",
      "epoch: [5/5][160/206]\ttime 0.147 (0.150)\tdata 0.000 (0.002)\teta 0:00:06\tloss 0.2102 (0.2147)\tacc 100.0000 (99.8438)\tlr 0.000300\n",
      "epoch: [5/5][200/206]\ttime 0.148 (0.150)\tdata 0.000 (0.002)\teta 0:00:00\tloss 0.2158 (0.2146)\tacc 100.0000 (99.8438)\tlr 0.000300\n",
      "=> Final test\n",
      "##### Evaluating dog_reid_dataset_far (source) #####\n",
      "Extracting features from query set ...\n",
      "Done, obtained 2-by-512 matrix\n",
      "Extracting features from gallery set ...\n",
      "Done, obtained 1653-by-512 matrix\n",
      "Speed: 0.0127 sec/batch\n",
      "Computing distance matrix with metric=euclidean ...\n",
      "Computing CMC and mAP ...\n",
      "** Results **\n",
      "mAP: 98.6%\n",
      "CMC curve\n",
      "Rank-1  : 100.0%\n",
      "Rank-5  : 100.0%\n",
      "Rank-10 : 100.0%\n",
      "Rank-20 : 100.0%\n",
      "Checkpoint saved to \"log/osnet_x0_25-softmax-dogs_dataset_far/model/model.pth.tar-5\"\n",
      "Elapsed 0:03:18\n"
     ]
    }
   ],
   "source": [
    "\n",
    "model = torchreid.models.build_model(\n",
    "    name='osnet_x0_25', #osnet\n",
    "    num_classes=datamanager.num_train_pids,\n",
    "    loss='softmax'\n",
    ")\n",
    "model = model.cuda()\n",
    "optimizer = torchreid.optim.build_optimizer(\n",
    "    model, optim='adam', lr=0.0003\n",
    ")\n",
    "scheduler = torchreid.optim.build_lr_scheduler(\n",
    "    optimizer,\n",
    "    lr_scheduler='single_step',\n",
    "    stepsize=20\n",
    ")\n",
    "engine = torchreid.engine.ImageSoftmaxEngine(\n",
    "    datamanager, model, optimizer, scheduler=scheduler\n",
    ")\n",
    "engine.run(\n",
    "    max_epoch=5,\n",
    "    save_dir='log/osnet_x0_25-softmax-dogs_dataset_far',\n",
    "    print_freq=40,\n",
    "    eval_freq = 40,\n",
    "    test_only = False\n",
    ")"
   ]
  },
  {
   "cell_type": "code",
   "execution_count": null,
   "id": "ba805f10-9ef5-4e1f-9a31-54688ee48b30",
   "metadata": {},
   "outputs": [
    {
     "name": "stdout",
     "output_type": "stream",
     "text": [
      "The tensorboard extension is already loaded. To reload it, use:\n",
      "  %reload_ext tensorboard\n",
      "2022-08-08 22:40:59.308107: I tensorflow/core/platform/cpu_feature_guard.cc:193] This TensorFlow binary is optimized with oneAPI Deep Neural Network Library (oneDNN) to use the following CPU instructions in performance-critical operations:  AVX2 FMA\n",
      "To enable them in other operations, rebuild TensorFlow with the appropriate compiler flags.\n",
      "2022-08-08 22:40:59.472538: E tensorflow/stream_executor/cuda/cuda_blas.cc:2981] Unable to register cuBLAS factory: Attempting to register factory for plugin cuBLAS when one has already been registered\n",
      "2022-08-08 22:41:00.058931: W tensorflow/compiler/xla/stream_executor/platform/default/dso_loader.cc:64] Could not load dynamic library 'libnvinfer.so.7'; dlerror: libnvinfer.so.7: cannot open shared object file: No such file or directory\n",
      "2022-08-08 22:41:00.059044: W tensorflow/compiler/xla/stream_executor/platform/default/dso_loader.cc:64] Could not load dynamic library 'libnvinfer_plugin.so.7'; dlerror: libnvinfer_plugin.so.7: cannot open shared object file: No such file or directory\n",
      "2022-08-08 22:41:00.059056: W tensorflow/compiler/tf2tensorrt/utils/py_utils.cc:38] TF-TRT Warning: Cannot dlopen some TensorRT libraries. If you would like to use Nvidia GPU with TensorRT, please make sure the missing libraries mentioned above are installed properly.\n",
      "2022-08-08 22:41:00.925898: I tensorflow/stream_executor/cuda/cuda_gpu_executor.cc:980] successful NUMA node read from SysFS had negative value (-1), but there must be at least one NUMA node, so returning NUMA node zero\n",
      "2022-08-08 22:41:00.964894: W tensorflow/compiler/xla/stream_executor/platform/default/dso_loader.cc:64] Could not load dynamic library 'libcudnn.so.8'; dlerror: libcudnn.so.8: cannot open shared object file: No such file or directory\n",
      "2022-08-08 22:41:00.964919: W tensorflow/core/common_runtime/gpu/gpu_device.cc:1934] Cannot dlopen some GPU libraries. Please make sure the missing libraries mentioned above are installed properly if you would like to use GPU. Follow the guide at https://www.tensorflow.org/install/gpu for how to download and setup the required libraries for your platform.\n",
      "Skipping registering GPU devices...\n",
      "\n",
      "NOTE: Using experimental fast data loading logic. To disable, pass\n",
      "    \"--load_fast=false\" and report issues on GitHub. More details:\n",
      "    https://github.com/tensorflow/tensorboard/issues/4784\n",
      "\n",
      "Serving TensorBoard on localhost; to expose to the network, use a proxy or pass --bind_all\n",
      "TensorBoard 2.10.0a20220808 at http://localhost:6007/ (Press CTRL+C to quit)\n"
     ]
    }
   ],
   "source": [
    "%load_ext tensorboard\n",
    "!tensorboard --logdir log"
   ]
  },
  {
   "cell_type": "code",
   "execution_count": 74,
   "id": "91468c94-b9ea-4a4a-abea-d7b4f5bf66b2",
   "metadata": {},
   "outputs": [
    {
     "ename": "AttributeError",
     "evalue": "'str' object has no attribute 'state_dict'",
     "output_type": "error",
     "traceback": [
      "\u001b[0;31m---------------------------------------------------------------------------\u001b[0m",
      "\u001b[0;31mAttributeError\u001b[0m                            Traceback (most recent call last)",
      "Input \u001b[0;32mIn [74]\u001b[0m, in \u001b[0;36m<cell line: 1>\u001b[0;34m()\u001b[0m\n\u001b[0;32m----> 1\u001b[0m model \u001b[38;5;241m=\u001b[39m \u001b[43mtorchreid\u001b[49m\u001b[38;5;241;43m.\u001b[39;49m\u001b[43mutils\u001b[49m\u001b[38;5;241;43m.\u001b[39;49m\u001b[43mload_pretrained_weights\u001b[49m\u001b[43m(\u001b[49m\u001b[38;5;124;43m'\u001b[39;49m\u001b[38;5;124;43mosnet_x0_25\u001b[39;49m\u001b[38;5;124;43m'\u001b[39;49m\u001b[43m,\u001b[49m\u001b[43m \u001b[49m\u001b[38;5;124;43m\"\u001b[39;49m\u001b[38;5;124;43m./log/osnet_x0_25-softmax-dogs_dataset/model/model.pth.tar-10\u001b[39;49m\u001b[38;5;124;43m\"\u001b[39;49m\u001b[43m)\u001b[49m\n\u001b[1;32m      3\u001b[0m engine \u001b[38;5;241m=\u001b[39m torchreid\u001b[38;5;241m.\u001b[39mengine\u001b[38;5;241m.\u001b[39mImageSoftmaxEngine(\n\u001b[1;32m      4\u001b[0m     datamanager, model, optimizer, scheduler\u001b[38;5;241m=\u001b[39mscheduler\n\u001b[1;32m      5\u001b[0m )\n\u001b[1;32m      6\u001b[0m engine\u001b[38;5;241m.\u001b[39mrun(\n\u001b[1;32m      7\u001b[0m     test_only \u001b[38;5;241m=\u001b[39m \u001b[38;5;28;01mTrue\u001b[39;00m,\n\u001b[1;32m      8\u001b[0m     max_epoch\u001b[38;5;241m=\u001b[39m\u001b[38;5;241m300\u001b[39m,\n\u001b[1;32m      9\u001b[0m     save_dir\u001b[38;5;241m=\u001b[39m\u001b[38;5;124m\"\u001b[39m\u001b[38;5;124m/log/osnet_x0_25-softmax-dogs_dataset\u001b[39m\u001b[38;5;124m\"\u001b[39m,\n\u001b[1;32m     10\u001b[0m     print_freq\u001b[38;5;241m=\u001b[39m\u001b[38;5;241m10\u001b[39m \u001b[38;5;66;03m#изменить\u001b[39;00m\n\u001b[1;32m     11\u001b[0m )\n",
      "File \u001b[0;32m~/Documents/CV project/torchreid/deep-person-reid/torchreid/utils/torchtools.py:279\u001b[0m, in \u001b[0;36mload_pretrained_weights\u001b[0;34m(model, weight_path)\u001b[0m\n\u001b[1;32m    276\u001b[0m \u001b[38;5;28;01melse\u001b[39;00m:\n\u001b[1;32m    277\u001b[0m     state_dict \u001b[38;5;241m=\u001b[39m checkpoint\n\u001b[0;32m--> 279\u001b[0m model_dict \u001b[38;5;241m=\u001b[39m \u001b[43mmodel\u001b[49m\u001b[38;5;241;43m.\u001b[39;49m\u001b[43mstate_dict\u001b[49m()\n\u001b[1;32m    280\u001b[0m new_state_dict \u001b[38;5;241m=\u001b[39m OrderedDict()\n\u001b[1;32m    281\u001b[0m matched_layers, discarded_layers \u001b[38;5;241m=\u001b[39m [], []\n",
      "\u001b[0;31mAttributeError\u001b[0m: 'str' object has no attribute 'state_dict'"
     ]
    }
   ],
   "source": [
    "model = torchreid.utils.load_pretrained_weights('osnet_x0_25', \"./log/osnet_x0_25-softmax-dogs_dataset/model/model.pth.tar-10\")\n",
    "\n",
    "engine = torchreid.engine.ImageSoftmaxEngine(\n",
    "    datamanager, model, optimizer, scheduler=scheduler\n",
    ")\n",
    "engine.run(\n",
    "    test_only = True,\n",
    "    max_epoch=300,\n",
    "    save_dir=\"/log/osnet_x0_25-softmax-dogs_dataset\",\n",
    "    print_freq=10 #изменить\n",
    ")"
   ]
  },
  {
   "cell_type": "code",
   "execution_count": 9,
   "id": "f02f5083-8b8b-4f85-9439-07faa1ba3d76",
   "metadata": {},
   "outputs": [
    {
     "data": {
      "text/plain": [
       "['.ipynb_checkpoints',\n",
       " 'reid 9',\n",
       " 'reid 6',\n",
       " 'reid 8',\n",
       " 'reid 11',\n",
       " 'reid 10',\n",
       " 'reid 7']"
      ]
     },
     "execution_count": 9,
     "metadata": {},
     "output_type": "execute_result"
    }
   ],
   "source": [
    "list(os.walk(\"./reid dataset raw\"))[0][1]"
   ]
  },
  {
   "cell_type": "code",
   "execution_count": 66,
   "id": "175be667-140a-40ea-b895-b276df745327",
   "metadata": {},
   "outputs": [
    {
     "data": {
      "text/plain": [
       "2"
      ]
     },
     "execution_count": 66,
     "metadata": {},
     "output_type": "execute_result"
    }
   ],
   "source": [
    "round(1.5)"
   ]
  },
  {
   "cell_type": "code",
   "execution_count": 67,
   "id": "0f8bc21a-aa66-4d80-8afc-540d8cef4a1b",
   "metadata": {},
   "outputs": [
    {
     "name": "stdout",
     "output_type": "stream",
     "text": [
      "./reid dataset raw/reid 9/Annotations/*.xml\n",
      "frame_001013\n",
      "./reid dataset split/images_all/img_0_0.PNG 0 0\n"
     ]
    },
    {
     "data": {
      "image/png": "[encoded data removed]",
      "text/plain": [
       "<Figure size 432x288 with 1 Axes>"
      ]
     },
     "metadata": {
      "needs_background": "light"
     },
     "output_type": "display_data"
    }
   ],
   "source": [
    "classes = []\n",
    "labels_input_dir = \"./reid dataset raw/\"\n",
    "labels_output_dir = \"./reid dataset split/labels_all/\"\n",
    "images_input_dir = \"./reid dataset raw/\"\n",
    "images_output_dir = \"./reid dataset split/images_all/\"\n",
    "\n",
    "# create the labels folder (output directory)\n",
    "# os.mkdir(labels_output_dir)\n",
    "# os.mkdir(images_output_dir)\n",
    "\n",
    "\n",
    "\n",
    "name_id = 0 # since I'm saving all bboxes from all frames of all vids I need to\n",
    "all_vids = os.listdir(\"./reid dataset raw\") #dirs of all vids\n",
    "all_vids.remove('.ipynb_checkpoints')\n",
    "# identify all the xml files in the annotations folder (input directory)\n",
    "for directory in all_vids:\n",
    "    print(os.path.join(labels_input_dir,directory,\"Annotations\", '*.xml'))\n",
    "    files = glob.glob(os.path.join(labels_input_dir,directory,\"Annotations\",'*.xml'))\n",
    "    # loop through each \n",
    "    for fil in files:\n",
    "        basename = os.path.basename(fil) #name of file in folder\n",
    "        filename = os.path.splitext(basename)[0]\n",
    "        # check if the label contains the corresponding image file\n",
    "        if not os.path.exists(os.path.join(images_input_dir,directory,\"JPEGImages\", f\"{filename}.PNG\")):\n",
    "            print(f\"{filename} image does not exist!\")\n",
    "            continue\n",
    "\n",
    "        # parse the content of the xml file\n",
    "        tree = ET.parse(fil)\n",
    "        root = tree.getroot()\n",
    "        width = int(root.find(\"size\").find(\"width\").text)\n",
    "        height = int(root.find(\"size\").find(\"height\").text)\n",
    "\n",
    "        for obj in root.findall('object'):\n",
    "            label = obj.find(\"name\").text\n",
    "            # check for new classes and append to list\n",
    "            if label not in classes:\n",
    "                classes.append(label)  \n",
    "            index = classes.index(label)\n",
    "            pil_bbox = [round(float(x.text)) for x in obj.find(\"bndbox\")]\n",
    "            img = cv2.imread(os.path.join(images_input_dir,directory,\"JPEGImages\", f\"{filename}.PNG\"))\n",
    "            crop_img = img[pil_bbox[1]:pil_bbox[3], pil_bbox[0]:pil_bbox[2]]\n",
    "            crop_img = crop_img[...,::-1]\n",
    "            print(filename)\n",
    "            new_imname= os.path.join(images_output_dir,f\"img_{name_id}_{index}.PNG\")\n",
    "            print(\" \".join([str(new_imname),str(index),\"0\"]))\n",
    "            plt.imshow(crop_img)\n",
    "            break\n",
    "        break\n",
    "    break\n",
    "    "
   ]
  }
 ],
 "metadata": {
  "kernelspec": {
   "display_name": "Python 3 (ipykernel)",
   "language": "python",
   "name": "python3"
  },
  "language_info": {
   "codemirror_mode": {
    "name": "ipython",
    "version": 3
   },
   "file_extension": ".py",
   "mimetype": "text/x-python",
   "name": "python",
   "nbconvert_exporter": "python",
   "pygments_lexer": "ipython3",
   "version": "3.10.4"
  }
 },
 "nbformat": 4,
 "nbformat_minor": 5
}
